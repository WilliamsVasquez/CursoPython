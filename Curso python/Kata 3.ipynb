{
 "cells": [
  {
   "cell_type": "code",
   "execution_count": 5,
   "metadata": {},
   "outputs": [
    {
     "name": "stdout",
     "output_type": "stream",
     "text": [
      "Peligro, se acerca un asteroide\n"
     ]
    }
   ],
   "source": [
    "asteroide = 49\n",
    "if asteroide > 25:\n",
    "    print('Peligro, se acerca un asteroide!')\n"
   ]
  },
  {
   "cell_type": "code",
   "execution_count": 6,
   "metadata": {},
   "outputs": [
    {
     "name": "stdout",
     "output_type": "stream",
     "text": [
      "Nada que ver\n"
     ]
    }
   ],
   "source": [
    "asteroide = 19\n",
    "if asteroide > 20:\n",
    "    print('Busca un asteroide en el cielo')\n",
    "elif asteroide == 20:\n",
    "    print('Busca un asteroide en el cielo')\n",
    "else:\n",
    "    print('Nada que ver')"
   ]
  },
  {
   "cell_type": "code",
   "execution_count": 7,
   "metadata": {},
   "outputs": [
    {
     "name": "stdout",
     "output_type": "stream",
     "text": [
      "Un asteroide viene hacia la Tierra!\n"
     ]
    }
   ],
   "source": [
    "velocidad_asteroide = 30\n",
    "tamaño_asteroide = 50\n",
    "if velocidad_asteroide > 25 and tamaño_asteroide > 25:\n",
    "    print('Un asteroide viene hacia la Tierra!')\n",
    "elif velocidad_asteroide >= 20:\n",
    "    print('Buesca un asteroide en el cielo')\n",
    "elif tamaño_asteroide < 25:\n",
    "    print('Nada que ver')\n",
    "else:\n",
    "    print('Nada que ver')"
   ]
  },
  {
   "cell_type": "code",
   "execution_count": 8,
   "metadata": {},
   "outputs": [
    {
     "name": "stdout",
     "output_type": "stream",
     "text": [
      "Buesca un asteroide en el cielo\n"
     ]
    }
   ],
   "source": [
    "velocidad_asteroide = 20\n",
    "tamaño_asteroide = 30\n",
    "if velocidad_asteroide > 25 and tamaño_asteroide > 25:\n",
    "    print('Un asteroide viene hacia la Tierra!')\n",
    "elif velocidad_asteroide >= 20:\n",
    "    print('Buesca un asteroide en el cielo')\n",
    "elif tamaño_asteroide < 25:\n",
    "    print('Nada que ver')\n",
    "else:\n",
    "    print('Nada que ver')"
   ]
  },
  {
   "cell_type": "code",
   "execution_count": 11,
   "metadata": {},
   "outputs": [
    {
     "name": "stdout",
     "output_type": "stream",
     "text": [
      "Nada que ver\n"
     ]
    }
   ],
   "source": [
    "velocidad_asteroide = 15\n",
    "tamaño_asteroide = 10\n",
    "if velocidad_asteroide > 25 and tamaño_asteroide > 25:\n",
    "    print('Un asteroide viene hacia la Tierra!')\n",
    "elif velocidad_asteroide >= 20:\n",
    "    print('Buesca un asteroide en el cielo')\n",
    "elif tamaño_asteroide < 25:\n",
    "    print('Nada que ver')\n",
    "else:\n",
    "    print('Nada que ver')"
   ]
  }
 ],
 "metadata": {
  "interpreter": {
   "hash": "11dbc23633155ffe5f0dfcb714a80a267f0404f5e752631575ee3b18b2f4db01"
  },
  "kernelspec": {
   "display_name": "Python 3.9.10 64-bit (windows store)",
   "language": "python",
   "name": "python3"
  },
  "language_info": {
   "codemirror_mode": {
    "name": "ipython",
    "version": 3
   },
   "file_extension": ".py",
   "mimetype": "text/x-python",
   "name": "python",
   "nbconvert_exporter": "python",
   "pygments_lexer": "ipython3",
   "version": "3.9.10"
  },
  "orig_nbformat": 4
 },
 "nbformat": 4,
 "nbformat_minor": 2
}
