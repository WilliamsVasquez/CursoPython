{
 "cells": [
  {
   "cell_type": "code",
   "execution_count": 4,
   "metadata": {},
   "outputs": [
    {
     "name": "stdout",
     "output_type": "stream",
     "text": [
      "628949330\n",
      "390577533\n"
     ]
    }
   ],
   "source": [
    "Tierra = 149597870 \n",
    "Jupiter = 778547200 \n",
    "\n",
    "distancia= Jupiter - Tierra\n",
    "print(distancia)\n",
    "\n",
    "millas = int(distancia * 0.621)\n",
    "print(millas)"
   ]
  },
  {
   "cell_type": "code",
   "execution_count": 1,
   "metadata": {},
   "outputs": [],
   "source": [
    "urano = 2872500000\n",
    "venus = 108200000\n",
    "\n",
    "urano = input('Introducir la distancia del sol hacia el primer planeta en KM')\n",
    "venus = input('Introducir la distancia del sol hacia el segundo planeta en KM')"
   ]
  },
  {
   "cell_type": "code",
   "execution_count": 2,
   "metadata": {},
   "outputs": [
    {
     "name": "stdout",
     "output_type": "stream",
     "text": [
      "2872500000\n",
      "108200000\n"
     ]
    }
   ],
   "source": [
    "print(urano)\n",
    "print(venus)"
   ]
  },
  {
   "cell_type": "code",
   "execution_count": 3,
   "metadata": {},
   "outputs": [],
   "source": [
    "urano = int(urano)\n",
    "venus = int(venus)"
   ]
  },
  {
   "cell_type": "code",
   "execution_count": 4,
   "metadata": {},
   "outputs": [
    {
     "name": "stdout",
     "output_type": "stream",
     "text": [
      "2764300000\n",
      "1716630300.0\n"
     ]
    }
   ],
   "source": [
    "distance_km = urano - venus\n",
    "print(distance_km)\n",
    "\n",
    "distance_mi = distance_km * 0.621\n",
    "print(abs(distance_mi))"
   ]
  }
 ],
 "metadata": {
  "interpreter": {
   "hash": "11dbc23633155ffe5f0dfcb714a80a267f0404f5e752631575ee3b18b2f4db01"
  },
  "kernelspec": {
   "display_name": "Python 3.9.10 64-bit (windows store)",
   "language": "python",
   "name": "python3"
  },
  "language_info": {
   "codemirror_mode": {
    "name": "ipython",
    "version": 3
   },
   "file_extension": ".py",
   "mimetype": "text/x-python",
   "name": "python",
   "nbconvert_exporter": "python",
   "pygments_lexer": "ipython3",
   "version": "3.9.10"
  },
  "orig_nbformat": 4
 },
 "nbformat": 4,
 "nbformat_minor": 2
}
